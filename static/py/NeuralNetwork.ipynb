{
 "cells": [
  {
   "cell_type": "code",
   "execution_count": 1,
   "id": "18ce25de",
   "metadata": {},
   "outputs": [],
   "source": [
    "from sklearn import tree\n",
    "import pandas as pd\n",
    "import os"
   ]
  },
  {
   "cell_type": "markdown",
   "id": "19f25a9a",
   "metadata": {},
   "source": [
    "# Read the CSV and Perform Basic Data Cleaning"
   ]
  },
  {
   "cell_type": "code",
   "execution_count": 2,
   "id": "f4abc7d4",
   "metadata": {},
   "outputs": [
    {
     "data": {
      "text/html": [
       "<div>\n",
       "<style scoped>\n",
       "    .dataframe tbody tr th:only-of-type {\n",
       "        vertical-align: middle;\n",
       "    }\n",
       "\n",
       "    .dataframe tbody tr th {\n",
       "        vertical-align: top;\n",
       "    }\n",
       "\n",
       "    .dataframe thead th {\n",
       "        text-align: right;\n",
       "    }\n",
       "</style>\n",
       "<table border=\"1\" class=\"dataframe\">\n",
       "  <thead>\n",
       "    <tr style=\"text-align: right;\">\n",
       "      <th></th>\n",
       "      <th>id</th>\n",
       "      <th>format</th>\n",
       "      <th>victory_status</th>\n",
       "      <th>book_moves</th>\n",
       "      <th>opening_name</th>\n",
       "      <th>winner</th>\n",
       "      <th>turns</th>\n",
       "      <th>white_id</th>\n",
       "      <th>white_rating</th>\n",
       "      <th>black_id</th>\n",
       "      <th>black_rating</th>\n",
       "    </tr>\n",
       "  </thead>\n",
       "  <tbody>\n",
       "    <tr>\n",
       "      <th>0</th>\n",
       "      <td>l1NXvwaE</td>\n",
       "      <td>Blitz</td>\n",
       "      <td>resign</td>\n",
       "      <td>4</td>\n",
       "      <td>Nimzowitsch Defense: Kennedy Variation</td>\n",
       "      <td>black</td>\n",
       "      <td>16</td>\n",
       "      <td>a-00</td>\n",
       "      <td>1322</td>\n",
       "      <td>skinnerua</td>\n",
       "      <td>1261</td>\n",
       "    </tr>\n",
       "    <tr>\n",
       "      <th>1</th>\n",
       "      <td>mIICvQHh</td>\n",
       "      <td>Blitz</td>\n",
       "      <td>mate</td>\n",
       "      <td>3</td>\n",
       "      <td>King's Pawn Game: Leonardis Variation</td>\n",
       "      <td>white</td>\n",
       "      <td>61</td>\n",
       "      <td>ischia</td>\n",
       "      <td>1496</td>\n",
       "      <td>a-00</td>\n",
       "      <td>1500</td>\n",
       "    </tr>\n",
       "    <tr>\n",
       "      <th>2</th>\n",
       "      <td>kWKvrqYL</td>\n",
       "      <td>Classical</td>\n",
       "      <td>mate</td>\n",
       "      <td>3</td>\n",
       "      <td>Queen's Pawn Game: Zukertort Variation</td>\n",
       "      <td>white</td>\n",
       "      <td>61</td>\n",
       "      <td>daniamurashov</td>\n",
       "      <td>1439</td>\n",
       "      <td>adivanov2009</td>\n",
       "      <td>1454</td>\n",
       "    </tr>\n",
       "    <tr>\n",
       "      <th>3</th>\n",
       "      <td>9tXo1AUZ</td>\n",
       "      <td>Classical</td>\n",
       "      <td>mate</td>\n",
       "      <td>5</td>\n",
       "      <td>Philidor Defense</td>\n",
       "      <td>white</td>\n",
       "      <td>95</td>\n",
       "      <td>nik221107</td>\n",
       "      <td>1523</td>\n",
       "      <td>adivanov2009</td>\n",
       "      <td>1469</td>\n",
       "    </tr>\n",
       "    <tr>\n",
       "      <th>4</th>\n",
       "      <td>qwU9rasv</td>\n",
       "      <td>Rapid</td>\n",
       "      <td>resign</td>\n",
       "      <td>10</td>\n",
       "      <td>Blackmar-Diemer Gambit: Pietrowsky Defense</td>\n",
       "      <td>white</td>\n",
       "      <td>33</td>\n",
       "      <td>capa_jr</td>\n",
       "      <td>1520</td>\n",
       "      <td>daniel_likes_chess</td>\n",
       "      <td>1423</td>\n",
       "    </tr>\n",
       "  </tbody>\n",
       "</table>\n",
       "</div>"
      ],
      "text/plain": [
       "         id     format victory_status  book_moves  \\\n",
       "0  l1NXvwaE      Blitz         resign           4   \n",
       "1  mIICvQHh      Blitz           mate           3   \n",
       "2  kWKvrqYL  Classical           mate           3   \n",
       "3  9tXo1AUZ  Classical           mate           5   \n",
       "4  qwU9rasv      Rapid         resign          10   \n",
       "\n",
       "                                 opening_name winner  turns       white_id  \\\n",
       "0      Nimzowitsch Defense: Kennedy Variation  black     16           a-00   \n",
       "1       King's Pawn Game: Leonardis Variation  white     61         ischia   \n",
       "2      Queen's Pawn Game: Zukertort Variation  white     61  daniamurashov   \n",
       "3                            Philidor Defense  white     95      nik221107   \n",
       "4  Blackmar-Diemer Gambit: Pietrowsky Defense  white     33        capa_jr   \n",
       "\n",
       "   white_rating            black_id  black_rating  \n",
       "0          1322           skinnerua          1261  \n",
       "1          1496                a-00          1500  \n",
       "2          1439        adivanov2009          1454  \n",
       "3          1523        adivanov2009          1469  \n",
       "4          1520  daniel_likes_chess          1423  "
      ]
     },
     "execution_count": 2,
     "metadata": {},
     "output_type": "execute_result"
    }
   ],
   "source": [
    "df = pd.read_csv(\"../../data/chess.csv\")\n",
    "df.head()"
   ]
  },
  {
   "cell_type": "markdown",
   "id": "57ab598d",
   "metadata": {},
   "source": [
    "# Select your features (columns)"
   ]
  },
  {
   "cell_type": "code",
   "execution_count": 3,
   "id": "c68cf5f5",
   "metadata": {},
   "outputs": [
    {
     "data": {
      "text/html": [
       "<div>\n",
       "<style scoped>\n",
       "    .dataframe tbody tr th:only-of-type {\n",
       "        vertical-align: middle;\n",
       "    }\n",
       "\n",
       "    .dataframe tbody tr th {\n",
       "        vertical-align: top;\n",
       "    }\n",
       "\n",
       "    .dataframe thead th {\n",
       "        text-align: right;\n",
       "    }\n",
       "</style>\n",
       "<table border=\"1\" class=\"dataframe\">\n",
       "  <thead>\n",
       "    <tr style=\"text-align: right;\">\n",
       "      <th></th>\n",
       "      <th>format</th>\n",
       "      <th>victory_status</th>\n",
       "      <th>book_moves</th>\n",
       "      <th>opening_name</th>\n",
       "      <th>turns</th>\n",
       "      <th>white_id</th>\n",
       "      <th>white_rating</th>\n",
       "      <th>black_id</th>\n",
       "      <th>black_rating</th>\n",
       "    </tr>\n",
       "  </thead>\n",
       "  <tbody>\n",
       "    <tr>\n",
       "      <th>0</th>\n",
       "      <td>Blitz</td>\n",
       "      <td>resign</td>\n",
       "      <td>4</td>\n",
       "      <td>Nimzowitsch Defense: Kennedy Variation</td>\n",
       "      <td>16</td>\n",
       "      <td>a-00</td>\n",
       "      <td>1322</td>\n",
       "      <td>skinnerua</td>\n",
       "      <td>1261</td>\n",
       "    </tr>\n",
       "    <tr>\n",
       "      <th>1</th>\n",
       "      <td>Blitz</td>\n",
       "      <td>mate</td>\n",
       "      <td>3</td>\n",
       "      <td>King's Pawn Game: Leonardis Variation</td>\n",
       "      <td>61</td>\n",
       "      <td>ischia</td>\n",
       "      <td>1496</td>\n",
       "      <td>a-00</td>\n",
       "      <td>1500</td>\n",
       "    </tr>\n",
       "    <tr>\n",
       "      <th>2</th>\n",
       "      <td>Classical</td>\n",
       "      <td>mate</td>\n",
       "      <td>3</td>\n",
       "      <td>Queen's Pawn Game: Zukertort Variation</td>\n",
       "      <td>61</td>\n",
       "      <td>daniamurashov</td>\n",
       "      <td>1439</td>\n",
       "      <td>adivanov2009</td>\n",
       "      <td>1454</td>\n",
       "    </tr>\n",
       "    <tr>\n",
       "      <th>3</th>\n",
       "      <td>Classical</td>\n",
       "      <td>mate</td>\n",
       "      <td>5</td>\n",
       "      <td>Philidor Defense</td>\n",
       "      <td>95</td>\n",
       "      <td>nik221107</td>\n",
       "      <td>1523</td>\n",
       "      <td>adivanov2009</td>\n",
       "      <td>1469</td>\n",
       "    </tr>\n",
       "    <tr>\n",
       "      <th>4</th>\n",
       "      <td>Rapid</td>\n",
       "      <td>resign</td>\n",
       "      <td>10</td>\n",
       "      <td>Blackmar-Diemer Gambit: Pietrowsky Defense</td>\n",
       "      <td>33</td>\n",
       "      <td>capa_jr</td>\n",
       "      <td>1520</td>\n",
       "      <td>daniel_likes_chess</td>\n",
       "      <td>1423</td>\n",
       "    </tr>\n",
       "  </tbody>\n",
       "</table>\n",
       "</div>"
      ],
      "text/plain": [
       "      format victory_status  book_moves  \\\n",
       "0      Blitz         resign           4   \n",
       "1      Blitz           mate           3   \n",
       "2  Classical           mate           3   \n",
       "3  Classical           mate           5   \n",
       "4      Rapid         resign          10   \n",
       "\n",
       "                                 opening_name  turns       white_id  \\\n",
       "0      Nimzowitsch Defense: Kennedy Variation     16           a-00   \n",
       "1       King's Pawn Game: Leonardis Variation     61         ischia   \n",
       "2      Queen's Pawn Game: Zukertort Variation     61  daniamurashov   \n",
       "3                            Philidor Defense     95      nik221107   \n",
       "4  Blackmar-Diemer Gambit: Pietrowsky Defense     33        capa_jr   \n",
       "\n",
       "   white_rating            black_id  black_rating  \n",
       "0          1322           skinnerua          1261  \n",
       "1          1496                a-00          1500  \n",
       "2          1439        adivanov2009          1454  \n",
       "3          1523        adivanov2009          1469  \n",
       "4          1520  daniel_likes_chess          1423  "
      ]
     },
     "execution_count": 3,
     "metadata": {},
     "output_type": "execute_result"
    }
   ],
   "source": [
    "# Set features. This will also be used as your x values.\n",
    "X = df.drop(columns=['id', 'winner'])\n",
    "X.head()"
   ]
  },
  {
   "cell_type": "code",
   "execution_count": 4,
   "id": "4d9ffc06",
   "metadata": {},
   "outputs": [],
   "source": [
    "# label encode categorical data\n",
    "from sklearn.preprocessing import LabelEncoder\n",
    "label_encoder = LabelEncoder()\n",
    "\n",
    "from tensorflow.keras.utils import to_categorical"
   ]
  },
  {
   "cell_type": "code",
   "execution_count": 5,
   "id": "67f10cca",
   "metadata": {},
   "outputs": [],
   "source": [
    "label_encoder.fit(df['format'])\n",
    "label_encoder.classes_\n",
    "\n",
    "X_format = label_encoder.transform(df['format'])\n",
    "X_format = X_format.reshape(X.shape[0])\n",
    "\n",
    "X['format'] = to_categorical(X_format)#.astype('int')"
   ]
  },
  {
   "cell_type": "code",
   "execution_count": 6,
   "id": "39849f12",
   "metadata": {},
   "outputs": [],
   "source": [
    "label_encoder.fit(df['victory_status'])\n",
    "label_encoder.classes_\n",
    "\n",
    "X_victory_status = label_encoder.transform(df['victory_status'])\n",
    "X_victory_status = X_victory_status.reshape(X.shape[0])\n",
    "\n",
    "X['victory_status'] = to_categorical(X_victory_status)#.astype('int')"
   ]
  },
  {
   "cell_type": "code",
   "execution_count": 7,
   "id": "f5d35b46",
   "metadata": {},
   "outputs": [],
   "source": [
    "label_encoder.fit(df['opening_name'])\n",
    "label_encoder.classes_\n",
    "\n",
    "X_opening_name = label_encoder.transform(df['opening_name'])\n",
    "X_opening_name = X_opening_name.reshape(X.shape[0])\n",
    "\n",
    "X['opening_name'] = to_categorical(X_opening_name)#.astype('int')"
   ]
  },
  {
   "cell_type": "code",
   "execution_count": 8,
   "id": "74d491c7",
   "metadata": {},
   "outputs": [],
   "source": [
    "label_encoder.fit(df['white_id'])\n",
    "label_encoder.classes_\n",
    "\n",
    "X_white_id = label_encoder.transform(df['white_id'])\n",
    "X_white_id = X_white_id.reshape(X.shape[0])\n",
    "\n",
    "X['white_id'] = to_categorical(X_white_id)#.astype('int')"
   ]
  },
  {
   "cell_type": "code",
   "execution_count": 9,
   "id": "0933fa89",
   "metadata": {},
   "outputs": [],
   "source": [
    "label_encoder.fit(df['black_id'])\n",
    "label_encoder.classes_\n",
    "\n",
    "X_black_id = label_encoder.transform(df['black_id'])\n",
    "X_black_id = X_black_id.reshape(X.shape[0])\n",
    "\n",
    "X['black_id'] = to_categorical(X_white_id)#.astype('int')"
   ]
  },
  {
   "cell_type": "code",
   "execution_count": 10,
   "id": "f3ef0436",
   "metadata": {},
   "outputs": [
    {
     "data": {
      "text/html": [
       "<div>\n",
       "<style scoped>\n",
       "    .dataframe tbody tr th:only-of-type {\n",
       "        vertical-align: middle;\n",
       "    }\n",
       "\n",
       "    .dataframe tbody tr th {\n",
       "        vertical-align: top;\n",
       "    }\n",
       "\n",
       "    .dataframe thead th {\n",
       "        text-align: right;\n",
       "    }\n",
       "</style>\n",
       "<table border=\"1\" class=\"dataframe\">\n",
       "  <thead>\n",
       "    <tr style=\"text-align: right;\">\n",
       "      <th></th>\n",
       "      <th>format</th>\n",
       "      <th>victory_status</th>\n",
       "      <th>book_moves</th>\n",
       "      <th>opening_name</th>\n",
       "      <th>turns</th>\n",
       "      <th>white_id</th>\n",
       "      <th>white_rating</th>\n",
       "      <th>black_id</th>\n",
       "      <th>black_rating</th>\n",
       "    </tr>\n",
       "  </thead>\n",
       "  <tbody>\n",
       "    <tr>\n",
       "      <th>0</th>\n",
       "      <td>1.0</td>\n",
       "      <td>0.0</td>\n",
       "      <td>4</td>\n",
       "      <td>0.0</td>\n",
       "      <td>16</td>\n",
       "      <td>0.0</td>\n",
       "      <td>1322</td>\n",
       "      <td>0.0</td>\n",
       "      <td>1261</td>\n",
       "    </tr>\n",
       "    <tr>\n",
       "      <th>1</th>\n",
       "      <td>1.0</td>\n",
       "      <td>0.0</td>\n",
       "      <td>3</td>\n",
       "      <td>0.0</td>\n",
       "      <td>61</td>\n",
       "      <td>0.0</td>\n",
       "      <td>1496</td>\n",
       "      <td>0.0</td>\n",
       "      <td>1500</td>\n",
       "    </tr>\n",
       "    <tr>\n",
       "      <th>2</th>\n",
       "      <td>0.0</td>\n",
       "      <td>0.0</td>\n",
       "      <td>3</td>\n",
       "      <td>0.0</td>\n",
       "      <td>61</td>\n",
       "      <td>0.0</td>\n",
       "      <td>1439</td>\n",
       "      <td>0.0</td>\n",
       "      <td>1454</td>\n",
       "    </tr>\n",
       "    <tr>\n",
       "      <th>3</th>\n",
       "      <td>0.0</td>\n",
       "      <td>0.0</td>\n",
       "      <td>5</td>\n",
       "      <td>0.0</td>\n",
       "      <td>95</td>\n",
       "      <td>0.0</td>\n",
       "      <td>1523</td>\n",
       "      <td>0.0</td>\n",
       "      <td>1469</td>\n",
       "    </tr>\n",
       "    <tr>\n",
       "      <th>4</th>\n",
       "      <td>0.0</td>\n",
       "      <td>0.0</td>\n",
       "      <td>10</td>\n",
       "      <td>0.0</td>\n",
       "      <td>33</td>\n",
       "      <td>0.0</td>\n",
       "      <td>1520</td>\n",
       "      <td>0.0</td>\n",
       "      <td>1423</td>\n",
       "    </tr>\n",
       "  </tbody>\n",
       "</table>\n",
       "</div>"
      ],
      "text/plain": [
       "   format  victory_status  book_moves  opening_name  turns  white_id  \\\n",
       "0     1.0             0.0           4           0.0     16       0.0   \n",
       "1     1.0             0.0           3           0.0     61       0.0   \n",
       "2     0.0             0.0           3           0.0     61       0.0   \n",
       "3     0.0             0.0           5           0.0     95       0.0   \n",
       "4     0.0             0.0          10           0.0     33       0.0   \n",
       "\n",
       "   white_rating  black_id  black_rating  \n",
       "0          1322       0.0          1261  \n",
       "1          1496       0.0          1500  \n",
       "2          1439       0.0          1454  \n",
       "3          1523       0.0          1469  \n",
       "4          1520       0.0          1423  "
      ]
     },
     "execution_count": 10,
     "metadata": {},
     "output_type": "execute_result"
    }
   ],
   "source": [
    "X.head()"
   ]
  },
  {
   "cell_type": "code",
   "execution_count": 11,
   "id": "305d3941",
   "metadata": {},
   "outputs": [
    {
     "data": {
      "text/plain": [
       "array(['black', 'draw', 'white'], dtype=object)"
      ]
     },
     "execution_count": 11,
     "metadata": {},
     "output_type": "execute_result"
    }
   ],
   "source": [
    "label_encoder.fit(df['winner'])\n",
    "label_encoder.classes_"
   ]
  },
  {
   "cell_type": "code",
   "execution_count": 12,
   "id": "c47d77be",
   "metadata": {},
   "outputs": [
    {
     "data": {
      "text/plain": [
       "numpy.ndarray"
      ]
     },
     "execution_count": 12,
     "metadata": {},
     "output_type": "execute_result"
    }
   ],
   "source": [
    "y_values = label_encoder.transform(df['winner'])#.astype('int')\n",
    "y = y_values.reshape(-1, 1)\n",
    "\n",
    "# y = to_categorical(y_values)\n",
    "type(y)"
   ]
  },
  {
   "cell_type": "markdown",
   "id": "be5734d0",
   "metadata": {},
   "source": [
    "# Create a Train Test Split\n"
   ]
  },
  {
   "cell_type": "code",
   "execution_count": 13,
   "id": "5a774a4a",
   "metadata": {},
   "outputs": [],
   "source": [
    "from sklearn.model_selection import train_test_split\n",
    "\n",
    "X_train, X_test, y_train, y_test = train_test_split(X, y, random_state=42)"
   ]
  },
  {
   "cell_type": "code",
   "execution_count": 14,
   "id": "3431bfcc",
   "metadata": {},
   "outputs": [
    {
     "data": {
      "text/html": [
       "<div>\n",
       "<style scoped>\n",
       "    .dataframe tbody tr th:only-of-type {\n",
       "        vertical-align: middle;\n",
       "    }\n",
       "\n",
       "    .dataframe tbody tr th {\n",
       "        vertical-align: top;\n",
       "    }\n",
       "\n",
       "    .dataframe thead th {\n",
       "        text-align: right;\n",
       "    }\n",
       "</style>\n",
       "<table border=\"1\" class=\"dataframe\">\n",
       "  <thead>\n",
       "    <tr style=\"text-align: right;\">\n",
       "      <th></th>\n",
       "      <th>format</th>\n",
       "      <th>victory_status</th>\n",
       "      <th>book_moves</th>\n",
       "      <th>opening_name</th>\n",
       "      <th>turns</th>\n",
       "      <th>white_id</th>\n",
       "      <th>white_rating</th>\n",
       "      <th>black_id</th>\n",
       "      <th>black_rating</th>\n",
       "    </tr>\n",
       "  </thead>\n",
       "  <tbody>\n",
       "    <tr>\n",
       "      <th>7971</th>\n",
       "      <td>0.0</td>\n",
       "      <td>0.0</td>\n",
       "      <td>1</td>\n",
       "      <td>0.0</td>\n",
       "      <td>69</td>\n",
       "      <td>0.0</td>\n",
       "      <td>1695</td>\n",
       "      <td>0.0</td>\n",
       "      <td>1702</td>\n",
       "    </tr>\n",
       "    <tr>\n",
       "      <th>12751</th>\n",
       "      <td>0.0</td>\n",
       "      <td>0.0</td>\n",
       "      <td>6</td>\n",
       "      <td>0.0</td>\n",
       "      <td>93</td>\n",
       "      <td>0.0</td>\n",
       "      <td>1792</td>\n",
       "      <td>0.0</td>\n",
       "      <td>1688</td>\n",
       "    </tr>\n",
       "    <tr>\n",
       "      <th>14657</th>\n",
       "      <td>0.0</td>\n",
       "      <td>0.0</td>\n",
       "      <td>1</td>\n",
       "      <td>0.0</td>\n",
       "      <td>85</td>\n",
       "      <td>0.0</td>\n",
       "      <td>1486</td>\n",
       "      <td>0.0</td>\n",
       "      <td>1350</td>\n",
       "    </tr>\n",
       "    <tr>\n",
       "      <th>2347</th>\n",
       "      <td>0.0</td>\n",
       "      <td>0.0</td>\n",
       "      <td>1</td>\n",
       "      <td>0.0</td>\n",
       "      <td>25</td>\n",
       "      <td>0.0</td>\n",
       "      <td>1848</td>\n",
       "      <td>0.0</td>\n",
       "      <td>1186</td>\n",
       "    </tr>\n",
       "    <tr>\n",
       "      <th>8856</th>\n",
       "      <td>0.0</td>\n",
       "      <td>0.0</td>\n",
       "      <td>3</td>\n",
       "      <td>0.0</td>\n",
       "      <td>86</td>\n",
       "      <td>0.0</td>\n",
       "      <td>1576</td>\n",
       "      <td>0.0</td>\n",
       "      <td>1638</td>\n",
       "    </tr>\n",
       "  </tbody>\n",
       "</table>\n",
       "</div>"
      ],
      "text/plain": [
       "       format  victory_status  book_moves  opening_name  turns  white_id  \\\n",
       "7971      0.0             0.0           1           0.0     69       0.0   \n",
       "12751     0.0             0.0           6           0.0     93       0.0   \n",
       "14657     0.0             0.0           1           0.0     85       0.0   \n",
       "2347      0.0             0.0           1           0.0     25       0.0   \n",
       "8856      0.0             0.0           3           0.0     86       0.0   \n",
       "\n",
       "       white_rating  black_id  black_rating  \n",
       "7971           1695       0.0          1702  \n",
       "12751          1792       0.0          1688  \n",
       "14657          1486       0.0          1350  \n",
       "2347           1848       0.0          1186  \n",
       "8856           1576       0.0          1638  "
      ]
     },
     "execution_count": 14,
     "metadata": {},
     "output_type": "execute_result"
    }
   ],
   "source": [
    "X_train.head()"
   ]
  },
  {
   "cell_type": "markdown",
   "id": "8608f2aa",
   "metadata": {},
   "source": [
    "# Pre-processing\n",
    "\n",
    "Scale the data using the MinMaxScaler and perform some feature selection"
   ]
  },
  {
   "cell_type": "code",
   "execution_count": 15,
   "id": "b16f492b",
   "metadata": {},
   "outputs": [
    {
     "name": "stdout",
     "output_type": "stream",
     "text": [
      "Y Shape: (12116, 1)\n",
      "X Shape: (12116, 9)\n"
     ]
    }
   ],
   "source": [
    "# Scale your data\n",
    "from sklearn.preprocessing import MinMaxScaler\n",
    "X_minmax = MinMaxScaler().fit(X_train)\n",
    "y_minmax = MinMaxScaler().fit(y_train)\n",
    "\n",
    "X_train_scaled = X_minmax.transform(X_train)\n",
    "X_test_scaled = X_minmax.transform(X_test)\n",
    "\n",
    "print(f\"Y Shape: {y_train.shape}\")\n",
    "print(f\"X Shape: {X_train_scaled.shape}\")"
   ]
  },
  {
   "cell_type": "markdown",
   "id": "c7b13a4b",
   "metadata": {},
   "source": [
    "# Train the Model\n",
    "\n"
   ]
  },
  {
   "cell_type": "code",
   "execution_count": 16,
   "id": "9c67454e",
   "metadata": {},
   "outputs": [
    {
     "data": {
      "text/plain": [
       "<tensorflow.python.keras.engine.sequential.Sequential at 0x21a749a7358>"
      ]
     },
     "execution_count": 16,
     "metadata": {},
     "output_type": "execute_result"
    }
   ],
   "source": [
    "from tensorflow.keras.models import Sequential\n",
    "\n",
    "model = Sequential()\n",
    "model"
   ]
  },
  {
   "cell_type": "code",
   "execution_count": 17,
   "id": "9d4935c5",
   "metadata": {},
   "outputs": [],
   "source": [
    "from tensorflow.keras.layers import Dense\n",
    "number_inputs = 9\n",
    "number_hidden_nodes = 4\n",
    "model.add(Dense(units=number_hidden_nodes, activation='relu', input_dim=number_inputs))"
   ]
  },
  {
   "cell_type": "code",
   "execution_count": 18,
   "id": "07d74f9f",
   "metadata": {},
   "outputs": [],
   "source": [
    "number_classes = 3\n",
    "model.add(Dense(units=number_classes, activation='softmax'))"
   ]
  },
  {
   "cell_type": "code",
   "execution_count": 19,
   "id": "0535c1db",
   "metadata": {},
   "outputs": [
    {
     "name": "stdout",
     "output_type": "stream",
     "text": [
      "Model: \"sequential\"\n",
      "_________________________________________________________________\n",
      "Layer (type)                 Output Shape              Param #   \n",
      "=================================================================\n",
      "dense (Dense)                (None, 4)                 40        \n",
      "_________________________________________________________________\n",
      "dense_1 (Dense)              (None, 3)                 15        \n",
      "=================================================================\n",
      "Total params: 55\n",
      "Trainable params: 55\n",
      "Non-trainable params: 0\n",
      "_________________________________________________________________\n"
     ]
    }
   ],
   "source": [
    "model.summary()"
   ]
  },
  {
   "cell_type": "code",
   "execution_count": 22,
   "id": "ab171548",
   "metadata": {},
   "outputs": [],
   "source": [
    "model.compile(optimizer='adam',\n",
    "              loss='sparse_categorical_crossentropy',\n",
    "              metrics=['accuracy'])"
   ]
  },
  {
   "cell_type": "code",
   "execution_count": null,
   "id": "2bef6f43",
   "metadata": {},
   "outputs": [
    {
     "name": "stdout",
     "output_type": "stream",
     "text": [
      "Train on 12116 samples\n",
      "Epoch 1/500\n",
      "12116/12116 - 1s - loss: 0.8910 - accuracy: 0.5906\n",
      "Epoch 2/500\n",
      "12116/12116 - 0s - loss: 0.7285 - accuracy: 0.6326\n",
      "Epoch 3/500\n",
      "12116/12116 - 0s - loss: 0.6662 - accuracy: 0.6514\n",
      "Epoch 4/500\n"
     ]
    }
   ],
   "source": [
    "model.fit(\n",
    "    X_train_scaled,\n",
    "    y_train,\n",
    "    epochs=500,\n",
    "    shuffle=True,\n",
    "    verbose=2\n",
    ")"
   ]
  },
  {
   "cell_type": "code",
   "execution_count": null,
   "id": "500a7adc",
   "metadata": {},
   "outputs": [],
   "source": [
    "model_loss, model_accuracy = model.evaluate(\n",
    "    X_test_scaled, y_test, verbose=2)\n",
    "print(f\"Loss: {model_loss}, Accuracy: {model_accuracy}\")"
   ]
  },
  {
   "cell_type": "markdown",
   "id": "81549482",
   "metadata": {},
   "source": [
    "# Hyperparameter Tuning\n",
    "\n",
    "Use `GridSearchCV` to tune the model's parameters"
   ]
  },
  {
   "cell_type": "code",
   "execution_count": null,
   "id": "8e971f43",
   "metadata": {},
   "outputs": [],
   "source": []
  },
  {
   "cell_type": "markdown",
   "id": "1b5f8c45",
   "metadata": {},
   "source": [
    "# Save the Model"
   ]
  },
  {
   "cell_type": "code",
   "execution_count": null,
   "id": "d4877854",
   "metadata": {},
   "outputs": [],
   "source": [
    "# import joblib\n",
    "# filename = 'LogisticRegression.sav'\n",
    "# joblib.dump(grid, filename)"
   ]
  }
 ],
 "metadata": {
  "kernelspec": {
   "display_name": "Python [conda env:PythonAdv] *",
   "language": "python",
   "name": "conda-env-PythonAdv-py"
  },
  "language_info": {
   "codemirror_mode": {
    "name": "ipython",
    "version": 3
   },
   "file_extension": ".py",
   "mimetype": "text/x-python",
   "name": "python",
   "nbconvert_exporter": "python",
   "pygments_lexer": "ipython3",
   "version": "3.6.13"
  }
 },
 "nbformat": 4,
 "nbformat_minor": 5
}
