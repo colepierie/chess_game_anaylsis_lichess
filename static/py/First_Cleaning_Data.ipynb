{
 "cells": [
  {
   "cell_type": "code",
   "execution_count": 171,
   "metadata": {},
   "outputs": [],
   "source": [
    "import numpy as np\n",
    "import pandas as pd"
   ]
  },
  {
   "cell_type": "code",
   "execution_count": 172,
   "metadata": {},
   "outputs": [],
   "source": [
    "csv = ['games.csv']\n",
    "\n",
    "colum = ['id','rated','turns','victory_status','winner','increment_code','white_id','white_rating','black_id',\n",
    "        'black_rating','opening_eco', 'opening_name','opening_ply']"
   ]
  },
  {
   "cell_type": "code",
   "execution_count": 173,
   "metadata": {},
   "outputs": [],
   "source": [
    "chess = pd.DataFrame(columns = colum)\n",
    "\n",
    "for file in csv:\n",
    "    load_df = pd.read_csv(f'data/{file}')\n",
    "    \n",
    "    load_df = load_df[colum]\n",
    "    \n",
    "    chess = chess.append(load_df,ignore_index=True)\n"
   ]
  },
  {
   "cell_type": "code",
   "execution_count": 188,
   "metadata": {},
   "outputs": [],
   "source": [
    "#Change format from object to create format\n",
    "chess[\"rated\"] = chess[\"rated\"].astype('category')\n",
    "chess[\"opening_eco\"] = chess[\"opening_eco\"].astype('category')\n",
    "chess[\"turns\"] = pd.to_numeric(chess[\"turns\"])\n",
    "chess[\"white_rating\"] = pd.to_numeric(chess[\"white_rating\"])\n",
    "chess[\"black_rating\"] = pd.to_numeric(chess[\"black_rating\"])\n",
    "chess[\"opening_ply\"] = pd.to_numeric(chess[\"opening_ply\"])\n"
   ]
  },
  {
   "cell_type": "code",
   "execution_count": 175,
   "metadata": {},
   "outputs": [],
   "source": [
    "#drop unrated matches\n",
    "chess['rated'].value_counts()\n",
    "chess = chess[chess['rated'] == True]"
   ]
  },
  {
   "cell_type": "code",
   "execution_count": 176,
   "metadata": {},
   "outputs": [],
   "source": [
    "#Drop plus from increment code\n",
    "chess[\"increment_code\"]= chess[\"increment_code\"].str.split(\"+\", n = 1, expand = True)\n",
    "\n",
    "#Change Increment code format!\n",
    "chess[\"increment_code\"] = pd.to_numeric(chess[\"increment_code\"])"
   ]
  },
  {
   "cell_type": "code",
   "execution_count": 190,
   "metadata": {},
   "outputs": [],
   "source": [
    "#create loop to create format column\n",
    "\n",
    "def func(x):\n",
    "    if 0 < x < 2:\n",
    "        return 'Bullet'\n",
    "    elif 2 < x < 9:\n",
    "        return 'Blitz'\n",
    "    elif 9 < x < 19:\n",
    "        return 'Rapid'\n",
    "    return 'Classical'\n",
    "\n",
    "chess['format']= chess[\"increment_code\"].apply(func)\n"
   ]
  },
  {
   "cell_type": "code",
   "execution_count": null,
   "metadata": {},
   "outputs": [],
   "source": []
  },
  {
   "cell_type": "code",
   "execution_count": 189,
   "metadata": {},
   "outputs": [],
   "source": [
    "#narrow down columns\n",
    "rated = chess[['id','format','victory_status','opening_ply','opening_name','winner','turns','white_id','white_rating','black_id',\n",
    "        'black_rating']]\n",
    "rated = rated.rename(columns={'opening_ply':'book_moves'})\n"
   ]
  },
  {
   "cell_type": "code",
   "execution_count": null,
   "metadata": {},
   "outputs": [],
   "source": [
    "rated.to_csv(\"data/chess.csv\", index = False)\n"
   ]
  },
  {
   "cell_type": "code",
   "execution_count": 187,
   "metadata": {},
   "outputs": [],
   "source": [
    "white = rated[['id','format','victory_status','book_moves','opening_name','winner','turns','white_id','white_rating','black_rating']]\n",
    "black = rated[['id','format','victory_status','book_moves','opening_name','winner','turns','black_id','black_rating','white_rating']]\n",
    "\n",
    "white = white.rename(columns={'id':'game_id'})\n",
    "white = white.rename(columns={'white_id':'player_id'})\n",
    "\n",
    "black = black.rename(columns={'id':'game_id'})\n",
    "black = black.rename(columns={'black_id':'player_id'})"
   ]
  },
  {
   "cell_type": "code",
   "execution_count": 179,
   "metadata": {},
   "outputs": [],
   "source": [
    "# create a list of our conditions\n",
    "white_win = [\n",
    "    (df['victory_status'] <= 2),\n",
    "    (df['likes_count'] > 15)\n",
    "    ]\n",
    "\n",
    "# create a list of the values we want to assign for each condition\n",
    "values = ['tier_4', 'tier_3', 'tier_2', 'tier_1']\n",
    "\n",
    "# create a new column and use np.select to assign values to it using our lists as arguments\n",
    "df['tier'] = np.select(conditions, values)\n",
    "\n",
    "# display updated DataFrame\n",
    "df.head()"
   ]
  },
  {
   "cell_type": "code",
   "execution_count": null,
   "metadata": {},
   "outputs": [],
   "source": []
  },
  {
   "cell_type": "code",
   "execution_count": null,
   "metadata": {},
   "outputs": [],
   "source": []
  }
 ],
 "metadata": {
  "kernelspec": {
   "display_name": "Python 3",
   "language": "python",
   "name": "python3"
  },
  "language_info": {
   "codemirror_mode": {
    "name": "ipython",
    "version": 3
   },
   "file_extension": ".py",
   "mimetype": "text/x-python",
   "name": "python",
   "nbconvert_exporter": "python",
   "pygments_lexer": "ipython3",
   "version": "3.7.1"
  }
 },
 "nbformat": 4,
 "nbformat_minor": 2
}
