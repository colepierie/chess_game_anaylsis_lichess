{
 "cells": [
  {
   "cell_type": "code",
   "execution_count": null,
   "metadata": {},
   "outputs": [],
   "source": [
    "# Update sklearn to prevent version mismatches\n",
    "!pip install sklearn --upgrade"
   ]
  },
  {
   "cell_type": "code",
   "execution_count": null,
   "metadata": {},
   "outputs": [],
   "source": [
    "# install joblib. This will be used to save your model. \n",
    "# Restart your kernel after installing \n",
    "!pip install joblib"
   ]
  },
  {
   "cell_type": "code",
   "execution_count": 1,
   "metadata": {},
   "outputs": [],
   "source": [
    "import pandas as pd"
   ]
  },
  {
   "cell_type": "markdown",
   "metadata": {},
   "source": [
    "# Read the CSV and Perform Basic Data Cleaning"
   ]
  },
  {
   "cell_type": "code",
   "execution_count": 2,
   "metadata": {},
   "outputs": [
    {
     "data": {
      "text/html": [
       "<div>\n",
       "<style scoped>\n",
       "    .dataframe tbody tr th:only-of-type {\n",
       "        vertical-align: middle;\n",
       "    }\n",
       "\n",
       "    .dataframe tbody tr th {\n",
       "        vertical-align: top;\n",
       "    }\n",
       "\n",
       "    .dataframe thead th {\n",
       "        text-align: right;\n",
       "    }\n",
       "</style>\n",
       "<table border=\"1\" class=\"dataframe\">\n",
       "  <thead>\n",
       "    <tr style=\"text-align: right;\">\n",
       "      <th></th>\n",
       "      <th>id</th>\n",
       "      <th>format</th>\n",
       "      <th>victory_status</th>\n",
       "      <th>book_moves</th>\n",
       "      <th>opening_name</th>\n",
       "      <th>winner</th>\n",
       "      <th>turns</th>\n",
       "      <th>white_id</th>\n",
       "      <th>white_rating</th>\n",
       "      <th>black_id</th>\n",
       "      <th>black_rating</th>\n",
       "    </tr>\n",
       "  </thead>\n",
       "  <tbody>\n",
       "    <tr>\n",
       "      <th>0</th>\n",
       "      <td>l1NXvwaE</td>\n",
       "      <td>Blitz</td>\n",
       "      <td>resign</td>\n",
       "      <td>4</td>\n",
       "      <td>Nimzowitsch Defense: Kennedy Variation</td>\n",
       "      <td>black</td>\n",
       "      <td>16</td>\n",
       "      <td>a-00</td>\n",
       "      <td>1322</td>\n",
       "      <td>skinnerua</td>\n",
       "      <td>1261</td>\n",
       "    </tr>\n",
       "    <tr>\n",
       "      <th>1</th>\n",
       "      <td>mIICvQHh</td>\n",
       "      <td>Blitz</td>\n",
       "      <td>mate</td>\n",
       "      <td>3</td>\n",
       "      <td>King's Pawn Game: Leonardis Variation</td>\n",
       "      <td>white</td>\n",
       "      <td>61</td>\n",
       "      <td>ischia</td>\n",
       "      <td>1496</td>\n",
       "      <td>a-00</td>\n",
       "      <td>1500</td>\n",
       "    </tr>\n",
       "    <tr>\n",
       "      <th>2</th>\n",
       "      <td>kWKvrqYL</td>\n",
       "      <td>Classical</td>\n",
       "      <td>mate</td>\n",
       "      <td>3</td>\n",
       "      <td>Queen's Pawn Game: Zukertort Variation</td>\n",
       "      <td>white</td>\n",
       "      <td>61</td>\n",
       "      <td>daniamurashov</td>\n",
       "      <td>1439</td>\n",
       "      <td>adivanov2009</td>\n",
       "      <td>1454</td>\n",
       "    </tr>\n",
       "    <tr>\n",
       "      <th>3</th>\n",
       "      <td>9tXo1AUZ</td>\n",
       "      <td>Classical</td>\n",
       "      <td>mate</td>\n",
       "      <td>5</td>\n",
       "      <td>Philidor Defense</td>\n",
       "      <td>white</td>\n",
       "      <td>95</td>\n",
       "      <td>nik221107</td>\n",
       "      <td>1523</td>\n",
       "      <td>adivanov2009</td>\n",
       "      <td>1469</td>\n",
       "    </tr>\n",
       "    <tr>\n",
       "      <th>4</th>\n",
       "      <td>qwU9rasv</td>\n",
       "      <td>Rapid</td>\n",
       "      <td>resign</td>\n",
       "      <td>10</td>\n",
       "      <td>Blackmar-Diemer Gambit: Pietrowsky Defense</td>\n",
       "      <td>white</td>\n",
       "      <td>33</td>\n",
       "      <td>capa_jr</td>\n",
       "      <td>1520</td>\n",
       "      <td>daniel_likes_chess</td>\n",
       "      <td>1423</td>\n",
       "    </tr>\n",
       "  </tbody>\n",
       "</table>\n",
       "</div>"
      ],
      "text/plain": [
       "         id     format victory_status  book_moves  \\\n",
       "0  l1NXvwaE      Blitz         resign           4   \n",
       "1  mIICvQHh      Blitz           mate           3   \n",
       "2  kWKvrqYL  Classical           mate           3   \n",
       "3  9tXo1AUZ  Classical           mate           5   \n",
       "4  qwU9rasv      Rapid         resign          10   \n",
       "\n",
       "                                 opening_name winner  turns       white_id  \\\n",
       "0      Nimzowitsch Defense: Kennedy Variation  black     16           a-00   \n",
       "1       King's Pawn Game: Leonardis Variation  white     61         ischia   \n",
       "2      Queen's Pawn Game: Zukertort Variation  white     61  daniamurashov   \n",
       "3                            Philidor Defense  white     95      nik221107   \n",
       "4  Blackmar-Diemer Gambit: Pietrowsky Defense  white     33        capa_jr   \n",
       "\n",
       "   white_rating            black_id  black_rating  \n",
       "0          1322           skinnerua          1261  \n",
       "1          1496                a-00          1500  \n",
       "2          1439        adivanov2009          1454  \n",
       "3          1523        adivanov2009          1469  \n",
       "4          1520  daniel_likes_chess          1423  "
      ]
     },
     "execution_count": 2,
     "metadata": {},
     "output_type": "execute_result"
    }
   ],
   "source": [
    "df = pd.read_csv(\"../../data/chess.csv\")\n",
    "df.head()"
   ]
  },
  {
   "cell_type": "markdown",
   "metadata": {},
   "source": [
    "# Select your features (columns)"
   ]
  },
  {
   "cell_type": "code",
   "execution_count": 3,
   "metadata": {},
   "outputs": [
    {
     "data": {
      "text/html": [
       "<div>\n",
       "<style scoped>\n",
       "    .dataframe tbody tr th:only-of-type {\n",
       "        vertical-align: middle;\n",
       "    }\n",
       "\n",
       "    .dataframe tbody tr th {\n",
       "        vertical-align: top;\n",
       "    }\n",
       "\n",
       "    .dataframe thead th {\n",
       "        text-align: right;\n",
       "    }\n",
       "</style>\n",
       "<table border=\"1\" class=\"dataframe\">\n",
       "  <thead>\n",
       "    <tr style=\"text-align: right;\">\n",
       "      <th></th>\n",
       "      <th>format</th>\n",
       "      <th>victory_status</th>\n",
       "      <th>book_moves</th>\n",
       "      <th>opening_name</th>\n",
       "      <th>turns</th>\n",
       "      <th>white_id</th>\n",
       "      <th>white_rating</th>\n",
       "      <th>black_id</th>\n",
       "      <th>black_rating</th>\n",
       "    </tr>\n",
       "  </thead>\n",
       "  <tbody>\n",
       "    <tr>\n",
       "      <th>0</th>\n",
       "      <td>Blitz</td>\n",
       "      <td>resign</td>\n",
       "      <td>4</td>\n",
       "      <td>Nimzowitsch Defense: Kennedy Variation</td>\n",
       "      <td>16</td>\n",
       "      <td>a-00</td>\n",
       "      <td>1322</td>\n",
       "      <td>skinnerua</td>\n",
       "      <td>1261</td>\n",
       "    </tr>\n",
       "    <tr>\n",
       "      <th>1</th>\n",
       "      <td>Blitz</td>\n",
       "      <td>mate</td>\n",
       "      <td>3</td>\n",
       "      <td>King's Pawn Game: Leonardis Variation</td>\n",
       "      <td>61</td>\n",
       "      <td>ischia</td>\n",
       "      <td>1496</td>\n",
       "      <td>a-00</td>\n",
       "      <td>1500</td>\n",
       "    </tr>\n",
       "    <tr>\n",
       "      <th>2</th>\n",
       "      <td>Classical</td>\n",
       "      <td>mate</td>\n",
       "      <td>3</td>\n",
       "      <td>Queen's Pawn Game: Zukertort Variation</td>\n",
       "      <td>61</td>\n",
       "      <td>daniamurashov</td>\n",
       "      <td>1439</td>\n",
       "      <td>adivanov2009</td>\n",
       "      <td>1454</td>\n",
       "    </tr>\n",
       "    <tr>\n",
       "      <th>3</th>\n",
       "      <td>Classical</td>\n",
       "      <td>mate</td>\n",
       "      <td>5</td>\n",
       "      <td>Philidor Defense</td>\n",
       "      <td>95</td>\n",
       "      <td>nik221107</td>\n",
       "      <td>1523</td>\n",
       "      <td>adivanov2009</td>\n",
       "      <td>1469</td>\n",
       "    </tr>\n",
       "    <tr>\n",
       "      <th>4</th>\n",
       "      <td>Rapid</td>\n",
       "      <td>resign</td>\n",
       "      <td>10</td>\n",
       "      <td>Blackmar-Diemer Gambit: Pietrowsky Defense</td>\n",
       "      <td>33</td>\n",
       "      <td>capa_jr</td>\n",
       "      <td>1520</td>\n",
       "      <td>daniel_likes_chess</td>\n",
       "      <td>1423</td>\n",
       "    </tr>\n",
       "  </tbody>\n",
       "</table>\n",
       "</div>"
      ],
      "text/plain": [
       "      format victory_status  book_moves  \\\n",
       "0      Blitz         resign           4   \n",
       "1      Blitz           mate           3   \n",
       "2  Classical           mate           3   \n",
       "3  Classical           mate           5   \n",
       "4      Rapid         resign          10   \n",
       "\n",
       "                                 opening_name  turns       white_id  \\\n",
       "0      Nimzowitsch Defense: Kennedy Variation     16           a-00   \n",
       "1       King's Pawn Game: Leonardis Variation     61         ischia   \n",
       "2      Queen's Pawn Game: Zukertort Variation     61  daniamurashov   \n",
       "3                            Philidor Defense     95      nik221107   \n",
       "4  Blackmar-Diemer Gambit: Pietrowsky Defense     33        capa_jr   \n",
       "\n",
       "   white_rating            black_id  black_rating  \n",
       "0          1322           skinnerua          1261  \n",
       "1          1496                a-00          1500  \n",
       "2          1439        adivanov2009          1454  \n",
       "3          1523        adivanov2009          1469  \n",
       "4          1520  daniel_likes_chess          1423  "
      ]
     },
     "execution_count": 3,
     "metadata": {},
     "output_type": "execute_result"
    }
   ],
   "source": [
    "# Set features. This will also be used as your x values.\n",
    "X = df.drop(columns=['id', 'winner'])\n",
    "X.head()"
   ]
  },
  {
   "cell_type": "code",
   "execution_count": 4,
   "metadata": {},
   "outputs": [
    {
     "data": {
      "text/plain": [
       "(16155, 9)"
      ]
     },
     "execution_count": 4,
     "metadata": {},
     "output_type": "execute_result"
    }
   ],
   "source": [
    "X.shape"
   ]
  },
  {
   "cell_type": "code",
   "execution_count": 5,
   "metadata": {},
   "outputs": [],
   "source": [
    "# label encode categorical data\n",
    "from sklearn.preprocessing import LabelEncoder\n",
    "label_encoder = LabelEncoder()\n",
    "\n",
    "from tensorflow.keras.utils import to_categorical"
   ]
  },
  {
   "cell_type": "code",
   "execution_count": 6,
   "metadata": {},
   "outputs": [],
   "source": [
    "label_encoder.fit(df['format'])\n",
    "label_encoder.classes_\n",
    "\n",
    "X_format = label_encoder.transform(df['format'])\n",
    "X_format = X_format.reshape(X.shape[0])\n",
    "\n",
    "X['format'] = to_categorical(X_format)#.astype('int')"
   ]
  },
  {
   "cell_type": "code",
   "execution_count": 7,
   "metadata": {},
   "outputs": [],
   "source": [
    "label_encoder.fit(df['victory_status'])\n",
    "label_encoder.classes_\n",
    "\n",
    "X_victory_status = label_encoder.transform(df['victory_status'])\n",
    "X_victory_status = X_victory_status.reshape(X.shape[0])\n",
    "\n",
    "X['victory_status'] = to_categorical(X_victory_status)#.astype('int')"
   ]
  },
  {
   "cell_type": "code",
   "execution_count": 8,
   "metadata": {},
   "outputs": [],
   "source": [
    "label_encoder.fit(df['opening_name'])\n",
    "label_encoder.classes_\n",
    "\n",
    "X_opening_name = label_encoder.transform(df['opening_name'])\n",
    "X_opening_name = X_opening_name.reshape(X.shape[0])\n",
    "\n",
    "X['opening_name'] = to_categorical(X_opening_name)#.astype('int')"
   ]
  },
  {
   "cell_type": "code",
   "execution_count": 9,
   "metadata": {},
   "outputs": [],
   "source": [
    "label_encoder.fit(df['white_id'])\n",
    "label_encoder.classes_\n",
    "\n",
    "X_white_id = label_encoder.transform(df['white_id'])\n",
    "X_white_id = X_white_id.reshape(X.shape[0])\n",
    "\n",
    "X['white_id'] = to_categorical(X_white_id)#.astype('int')"
   ]
  },
  {
   "cell_type": "code",
   "execution_count": 10,
   "metadata": {},
   "outputs": [],
   "source": [
    "label_encoder.fit(df['black_id'])\n",
    "label_encoder.classes_\n",
    "\n",
    "X_black_id = label_encoder.transform(df['black_id'])\n",
    "X_black_id = X_black_id.reshape(X.shape[0])\n",
    "\n",
    "X['black_id'] = to_categorical(X_white_id)#.astype('int')"
   ]
  },
  {
   "cell_type": "code",
   "execution_count": 11,
   "metadata": {},
   "outputs": [
    {
     "data": {
      "text/html": [
       "<div>\n",
       "<style scoped>\n",
       "    .dataframe tbody tr th:only-of-type {\n",
       "        vertical-align: middle;\n",
       "    }\n",
       "\n",
       "    .dataframe tbody tr th {\n",
       "        vertical-align: top;\n",
       "    }\n",
       "\n",
       "    .dataframe thead th {\n",
       "        text-align: right;\n",
       "    }\n",
       "</style>\n",
       "<table border=\"1\" class=\"dataframe\">\n",
       "  <thead>\n",
       "    <tr style=\"text-align: right;\">\n",
       "      <th></th>\n",
       "      <th>format</th>\n",
       "      <th>victory_status</th>\n",
       "      <th>book_moves</th>\n",
       "      <th>opening_name</th>\n",
       "      <th>turns</th>\n",
       "      <th>white_id</th>\n",
       "      <th>white_rating</th>\n",
       "      <th>black_id</th>\n",
       "      <th>black_rating</th>\n",
       "    </tr>\n",
       "  </thead>\n",
       "  <tbody>\n",
       "    <tr>\n",
       "      <th>0</th>\n",
       "      <td>1.0</td>\n",
       "      <td>0.0</td>\n",
       "      <td>4</td>\n",
       "      <td>0.0</td>\n",
       "      <td>16</td>\n",
       "      <td>0.0</td>\n",
       "      <td>1322</td>\n",
       "      <td>0.0</td>\n",
       "      <td>1261</td>\n",
       "    </tr>\n",
       "    <tr>\n",
       "      <th>1</th>\n",
       "      <td>1.0</td>\n",
       "      <td>0.0</td>\n",
       "      <td>3</td>\n",
       "      <td>0.0</td>\n",
       "      <td>61</td>\n",
       "      <td>0.0</td>\n",
       "      <td>1496</td>\n",
       "      <td>0.0</td>\n",
       "      <td>1500</td>\n",
       "    </tr>\n",
       "    <tr>\n",
       "      <th>2</th>\n",
       "      <td>0.0</td>\n",
       "      <td>0.0</td>\n",
       "      <td>3</td>\n",
       "      <td>0.0</td>\n",
       "      <td>61</td>\n",
       "      <td>0.0</td>\n",
       "      <td>1439</td>\n",
       "      <td>0.0</td>\n",
       "      <td>1454</td>\n",
       "    </tr>\n",
       "    <tr>\n",
       "      <th>3</th>\n",
       "      <td>0.0</td>\n",
       "      <td>0.0</td>\n",
       "      <td>5</td>\n",
       "      <td>0.0</td>\n",
       "      <td>95</td>\n",
       "      <td>0.0</td>\n",
       "      <td>1523</td>\n",
       "      <td>0.0</td>\n",
       "      <td>1469</td>\n",
       "    </tr>\n",
       "    <tr>\n",
       "      <th>4</th>\n",
       "      <td>0.0</td>\n",
       "      <td>0.0</td>\n",
       "      <td>10</td>\n",
       "      <td>0.0</td>\n",
       "      <td>33</td>\n",
       "      <td>0.0</td>\n",
       "      <td>1520</td>\n",
       "      <td>0.0</td>\n",
       "      <td>1423</td>\n",
       "    </tr>\n",
       "  </tbody>\n",
       "</table>\n",
       "</div>"
      ],
      "text/plain": [
       "   format  victory_status  book_moves  opening_name  turns  white_id  \\\n",
       "0     1.0             0.0           4           0.0     16       0.0   \n",
       "1     1.0             0.0           3           0.0     61       0.0   \n",
       "2     0.0             0.0           3           0.0     61       0.0   \n",
       "3     0.0             0.0           5           0.0     95       0.0   \n",
       "4     0.0             0.0          10           0.0     33       0.0   \n",
       "\n",
       "   white_rating  black_id  black_rating  \n",
       "0          1322       0.0          1261  \n",
       "1          1496       0.0          1500  \n",
       "2          1439       0.0          1454  \n",
       "3          1523       0.0          1469  \n",
       "4          1520       0.0          1423  "
      ]
     },
     "execution_count": 11,
     "metadata": {},
     "output_type": "execute_result"
    }
   ],
   "source": [
    "X.head()"
   ]
  },
  {
   "cell_type": "code",
   "execution_count": 12,
   "metadata": {},
   "outputs": [
    {
     "data": {
      "text/plain": [
       "array(['black', 'draw', 'white'], dtype=object)"
      ]
     },
     "execution_count": 12,
     "metadata": {},
     "output_type": "execute_result"
    }
   ],
   "source": [
    "label_encoder.fit(df['winner'])\n",
    "label_encoder.classes_"
   ]
  },
  {
   "cell_type": "code",
   "execution_count": 13,
   "metadata": {},
   "outputs": [
    {
     "data": {
      "text/plain": [
       "numpy.ndarray"
      ]
     },
     "execution_count": 13,
     "metadata": {},
     "output_type": "execute_result"
    }
   ],
   "source": [
    "y_values = label_encoder.transform(df['winner'])#.astype('int')\n",
    "y = y_values.reshape(-1, 1)\n",
    "\n",
    "# y = to_categorical(y_values)\n",
    "type(y)"
   ]
  },
  {
   "cell_type": "code",
   "execution_count": 14,
   "metadata": {},
   "outputs": [
    {
     "name": "stdout",
     "output_type": "stream",
     "text": [
      "(16155, 1)\n",
      "(16155, 9)\n"
     ]
    }
   ],
   "source": [
    "print(y.shape)\n",
    "print(X.shape)"
   ]
  },
  {
   "cell_type": "markdown",
   "metadata": {},
   "source": [
    "# Create a Train Test Split\n"
   ]
  },
  {
   "cell_type": "code",
   "execution_count": 15,
   "metadata": {},
   "outputs": [],
   "source": [
    "from sklearn.model_selection import train_test_split\n",
    "\n",
    "X_train, X_test, y_train, y_test = train_test_split(X, y, random_state=42)"
   ]
  },
  {
   "cell_type": "code",
   "execution_count": 16,
   "metadata": {},
   "outputs": [
    {
     "data": {
      "text/html": [
       "<div>\n",
       "<style scoped>\n",
       "    .dataframe tbody tr th:only-of-type {\n",
       "        vertical-align: middle;\n",
       "    }\n",
       "\n",
       "    .dataframe tbody tr th {\n",
       "        vertical-align: top;\n",
       "    }\n",
       "\n",
       "    .dataframe thead th {\n",
       "        text-align: right;\n",
       "    }\n",
       "</style>\n",
       "<table border=\"1\" class=\"dataframe\">\n",
       "  <thead>\n",
       "    <tr style=\"text-align: right;\">\n",
       "      <th></th>\n",
       "      <th>format</th>\n",
       "      <th>victory_status</th>\n",
       "      <th>book_moves</th>\n",
       "      <th>opening_name</th>\n",
       "      <th>turns</th>\n",
       "      <th>white_id</th>\n",
       "      <th>white_rating</th>\n",
       "      <th>black_id</th>\n",
       "      <th>black_rating</th>\n",
       "    </tr>\n",
       "  </thead>\n",
       "  <tbody>\n",
       "    <tr>\n",
       "      <th>7971</th>\n",
       "      <td>0.0</td>\n",
       "      <td>0.0</td>\n",
       "      <td>1</td>\n",
       "      <td>0.0</td>\n",
       "      <td>69</td>\n",
       "      <td>0.0</td>\n",
       "      <td>1695</td>\n",
       "      <td>0.0</td>\n",
       "      <td>1702</td>\n",
       "    </tr>\n",
       "    <tr>\n",
       "      <th>12751</th>\n",
       "      <td>0.0</td>\n",
       "      <td>0.0</td>\n",
       "      <td>6</td>\n",
       "      <td>0.0</td>\n",
       "      <td>93</td>\n",
       "      <td>0.0</td>\n",
       "      <td>1792</td>\n",
       "      <td>0.0</td>\n",
       "      <td>1688</td>\n",
       "    </tr>\n",
       "    <tr>\n",
       "      <th>14657</th>\n",
       "      <td>0.0</td>\n",
       "      <td>0.0</td>\n",
       "      <td>1</td>\n",
       "      <td>0.0</td>\n",
       "      <td>85</td>\n",
       "      <td>0.0</td>\n",
       "      <td>1486</td>\n",
       "      <td>0.0</td>\n",
       "      <td>1350</td>\n",
       "    </tr>\n",
       "    <tr>\n",
       "      <th>2347</th>\n",
       "      <td>0.0</td>\n",
       "      <td>0.0</td>\n",
       "      <td>1</td>\n",
       "      <td>0.0</td>\n",
       "      <td>25</td>\n",
       "      <td>0.0</td>\n",
       "      <td>1848</td>\n",
       "      <td>0.0</td>\n",
       "      <td>1186</td>\n",
       "    </tr>\n",
       "    <tr>\n",
       "      <th>8856</th>\n",
       "      <td>0.0</td>\n",
       "      <td>0.0</td>\n",
       "      <td>3</td>\n",
       "      <td>0.0</td>\n",
       "      <td>86</td>\n",
       "      <td>0.0</td>\n",
       "      <td>1576</td>\n",
       "      <td>0.0</td>\n",
       "      <td>1638</td>\n",
       "    </tr>\n",
       "  </tbody>\n",
       "</table>\n",
       "</div>"
      ],
      "text/plain": [
       "       format  victory_status  book_moves  opening_name  turns  white_id  \\\n",
       "7971      0.0             0.0           1           0.0     69       0.0   \n",
       "12751     0.0             0.0           6           0.0     93       0.0   \n",
       "14657     0.0             0.0           1           0.0     85       0.0   \n",
       "2347      0.0             0.0           1           0.0     25       0.0   \n",
       "8856      0.0             0.0           3           0.0     86       0.0   \n",
       "\n",
       "       white_rating  black_id  black_rating  \n",
       "7971           1695       0.0          1702  \n",
       "12751          1792       0.0          1688  \n",
       "14657          1486       0.0          1350  \n",
       "2347           1848       0.0          1186  \n",
       "8856           1576       0.0          1638  "
      ]
     },
     "execution_count": 16,
     "metadata": {},
     "output_type": "execute_result"
    }
   ],
   "source": [
    "X_train.head()"
   ]
  },
  {
   "cell_type": "code",
   "execution_count": 17,
   "metadata": {},
   "outputs": [],
   "source": [
    "y_train = y_train.reshape(-1, 1)\n",
    "y_test = y_test.reshape(-1, 1)"
   ]
  },
  {
   "cell_type": "markdown",
   "metadata": {},
   "source": [
    "# Pre-processing\n",
    "\n",
    "Scale the data using the MinMaxScaler and perform some feature selection"
   ]
  },
  {
   "cell_type": "code",
   "execution_count": 18,
   "metadata": {},
   "outputs": [
    {
     "name": "stdout",
     "output_type": "stream",
     "text": [
      "Y Shape: (12116, 1)\n",
      "X Shape: (12116, 9)\n"
     ]
    }
   ],
   "source": [
    "# Scale your data\n",
    "from sklearn.preprocessing import MinMaxScaler\n",
    "X_minmax = MinMaxScaler().fit(X_train)\n",
    "y_minmax = MinMaxScaler().fit(y_train)\n",
    "\n",
    "X_train_scaled = X_minmax.transform(X_train)\n",
    "X_test_scaled = X_minmax.transform(X_test)\n",
    "\n",
    "print(f\"Y Shape: {y_train.shape}\")\n",
    "print(f\"X Shape: {X_train_scaled.shape}\")"
   ]
  },
  {
   "cell_type": "markdown",
   "metadata": {},
   "source": [
    "# Train the Model\n",
    "\n"
   ]
  },
  {
   "cell_type": "code",
   "execution_count": 19,
   "metadata": {},
   "outputs": [
    {
     "data": {
      "text/plain": [
       "SVC(kernel='poly')"
      ]
     },
     "execution_count": 19,
     "metadata": {},
     "output_type": "execute_result"
    }
   ],
   "source": [
    "from sklearn.svm import SVC \n",
    "model = SVC(kernel='poly')\n",
    "model"
   ]
  },
  {
   "cell_type": "code",
   "execution_count": 20,
   "metadata": {},
   "outputs": [
    {
     "data": {
      "text/plain": [
       "SVC(coef0=3, decision_function_shape=None, gamma='auto', kernel='poly')"
      ]
     },
     "execution_count": 20,
     "metadata": {},
     "output_type": "execute_result"
    }
   ],
   "source": [
    "SVC(C=1.0, cache_size=200, class_weight=None, coef0=3,\n",
    "  decision_function_shape=None, degree=3, gamma='auto', kernel='poly',\n",
    "  max_iter=-1, probability=False, random_state=None, shrinking=True,\n",
    "  tol=0.001, verbose=False)"
   ]
  },
  {
   "cell_type": "code",
   "execution_count": 21,
   "metadata": {},
   "outputs": [
    {
     "data": {
      "text/plain": [
       "SVC(kernel='poly')"
      ]
     },
     "execution_count": 21,
     "metadata": {},
     "output_type": "execute_result"
    }
   ],
   "source": [
    "model.fit(X_train_scaled,y_train.ravel())"
   ]
  },
  {
   "cell_type": "markdown",
   "metadata": {},
   "source": [
    "# Hyperparameter Tuning\n",
    "\n",
    "Use `GridSearchCV` to tune the model's parameters"
   ]
  },
  {
   "cell_type": "code",
   "execution_count": 22,
   "metadata": {},
   "outputs": [],
   "source": [
    "from sklearn.model_selection import GridSearchCV\n",
    "param_grid = {'C': [1, 5, 10, 50],\n",
    "              'gamma': [0.0001, 0.0005, 0.001, 0.005]}\n",
    "grid = GridSearchCV(model, param_grid, verbose=3)"
   ]
  },
  {
   "cell_type": "code",
   "execution_count": 23,
   "metadata": {},
   "outputs": [
    {
     "name": "stdout",
     "output_type": "stream",
     "text": [
      "Fitting 5 folds for each of 16 candidates, totalling 80 fits\n",
      "[CV 1/5] END ..............................C=1, gamma=0.0001; total time=   3.9s\n",
      "[CV 2/5] END ..............................C=1, gamma=0.0001; total time=   4.0s\n",
      "[CV 3/5] END ..............................C=1, gamma=0.0001; total time=   3.9s\n",
      "[CV 4/5] END ..............................C=1, gamma=0.0001; total time=   3.9s\n",
      "[CV 5/5] END ..............................C=1, gamma=0.0001; total time=   3.9s\n",
      "[CV 1/5] END ..............................C=1, gamma=0.0005; total time=   3.9s\n",
      "[CV 2/5] END ..............................C=1, gamma=0.0005; total time=   3.8s\n",
      "[CV 3/5] END ..............................C=1, gamma=0.0005; total time=   3.7s\n",
      "[CV 4/5] END ..............................C=1, gamma=0.0005; total time=   3.8s\n",
      "[CV 5/5] END ..............................C=1, gamma=0.0005; total time=   3.8s\n",
      "[CV 1/5] END ...............................C=1, gamma=0.001; total time=   3.8s\n",
      "[CV 2/5] END ...............................C=1, gamma=0.001; total time=   3.8s\n",
      "[CV 3/5] END ...............................C=1, gamma=0.001; total time=   3.8s\n",
      "[CV 4/5] END ...............................C=1, gamma=0.001; total time=   3.8s\n",
      "[CV 5/5] END ...............................C=1, gamma=0.001; total time=   3.8s\n",
      "[CV 1/5] END ...............................C=1, gamma=0.005; total time=   3.8s\n",
      "[CV 2/5] END ...............................C=1, gamma=0.005; total time=   3.9s\n",
      "[CV 3/5] END ...............................C=1, gamma=0.005; total time=   3.8s\n",
      "[CV 4/5] END ...............................C=1, gamma=0.005; total time=   3.8s\n",
      "[CV 5/5] END ...............................C=1, gamma=0.005; total time=   3.8s\n",
      "[CV 1/5] END ..............................C=5, gamma=0.0001; total time=   3.8s\n",
      "[CV 2/5] END ..............................C=5, gamma=0.0001; total time=   3.8s\n",
      "[CV 3/5] END ..............................C=5, gamma=0.0001; total time=   3.8s\n",
      "[CV 4/5] END ..............................C=5, gamma=0.0001; total time=   3.8s\n",
      "[CV 5/5] END ..............................C=5, gamma=0.0001; total time=   3.8s\n",
      "[CV 1/5] END ..............................C=5, gamma=0.0005; total time=   3.8s\n",
      "[CV 2/5] END ..............................C=5, gamma=0.0005; total time=   3.8s\n",
      "[CV 3/5] END ..............................C=5, gamma=0.0005; total time=   3.8s\n",
      "[CV 4/5] END ..............................C=5, gamma=0.0005; total time=   3.8s\n",
      "[CV 5/5] END ..............................C=5, gamma=0.0005; total time=   3.8s\n",
      "[CV 1/5] END ...............................C=5, gamma=0.001; total time=   3.8s\n",
      "[CV 2/5] END ...............................C=5, gamma=0.001; total time=   3.7s\n",
      "[CV 3/5] END ...............................C=5, gamma=0.001; total time=   3.8s\n",
      "[CV 4/5] END ...............................C=5, gamma=0.001; total time=   3.8s\n",
      "[CV 5/5] END ...............................C=5, gamma=0.001; total time=   3.8s\n",
      "[CV 1/5] END ...............................C=5, gamma=0.005; total time=   3.8s\n",
      "[CV 2/5] END ...............................C=5, gamma=0.005; total time=   3.8s\n",
      "[CV 3/5] END ...............................C=5, gamma=0.005; total time=   3.8s\n",
      "[CV 4/5] END ...............................C=5, gamma=0.005; total time=   3.9s\n",
      "[CV 5/5] END ...............................C=5, gamma=0.005; total time=   3.8s\n",
      "[CV 1/5] END .............................C=10, gamma=0.0001; total time=   3.8s\n",
      "[CV 2/5] END .............................C=10, gamma=0.0001; total time=   3.8s\n",
      "[CV 3/5] END .............................C=10, gamma=0.0001; total time=   3.8s\n",
      "[CV 4/5] END .............................C=10, gamma=0.0001; total time=   3.8s\n",
      "[CV 5/5] END .............................C=10, gamma=0.0001; total time=   3.8s\n",
      "[CV 1/5] END .............................C=10, gamma=0.0005; total time=   3.8s\n",
      "[CV 2/5] END .............................C=10, gamma=0.0005; total time=   3.8s\n",
      "[CV 3/5] END .............................C=10, gamma=0.0005; total time=   3.8s\n",
      "[CV 4/5] END .............................C=10, gamma=0.0005; total time=   3.8s\n",
      "[CV 5/5] END .............................C=10, gamma=0.0005; total time=   3.8s\n",
      "[CV 1/5] END ..............................C=10, gamma=0.001; total time=   3.8s\n",
      "[CV 2/5] END ..............................C=10, gamma=0.001; total time=   3.8s\n",
      "[CV 3/5] END ..............................C=10, gamma=0.001; total time=   3.8s\n",
      "[CV 4/5] END ..............................C=10, gamma=0.001; total time=   3.8s\n",
      "[CV 5/5] END ..............................C=10, gamma=0.001; total time=   3.8s\n",
      "[CV 1/5] END ..............................C=10, gamma=0.005; total time=   3.8s\n",
      "[CV 2/5] END ..............................C=10, gamma=0.005; total time=   3.8s\n",
      "[CV 3/5] END ..............................C=10, gamma=0.005; total time=   3.8s\n",
      "[CV 4/5] END ..............................C=10, gamma=0.005; total time=   3.8s\n",
      "[CV 5/5] END ..............................C=10, gamma=0.005; total time=   3.8s\n",
      "[CV 1/5] END .............................C=50, gamma=0.0001; total time=   3.8s\n",
      "[CV 2/5] END .............................C=50, gamma=0.0001; total time=   3.8s\n",
      "[CV 3/5] END .............................C=50, gamma=0.0001; total time=   3.8s\n",
      "[CV 4/5] END .............................C=50, gamma=0.0001; total time=   4.2s\n",
      "[CV 5/5] END .............................C=50, gamma=0.0001; total time=   3.8s\n",
      "[CV 1/5] END .............................C=50, gamma=0.0005; total time=   3.8s\n",
      "[CV 2/5] END .............................C=50, gamma=0.0005; total time=   3.8s\n",
      "[CV 3/5] END .............................C=50, gamma=0.0005; total time=   3.8s\n",
      "[CV 4/5] END .............................C=50, gamma=0.0005; total time=   3.8s\n",
      "[CV 5/5] END .............................C=50, gamma=0.0005; total time=   3.8s\n",
      "[CV 1/5] END ..............................C=50, gamma=0.001; total time=   3.8s\n",
      "[CV 2/5] END ..............................C=50, gamma=0.001; total time=   3.8s\n",
      "[CV 3/5] END ..............................C=50, gamma=0.001; total time=   3.8s\n",
      "[CV 4/5] END ..............................C=50, gamma=0.001; total time=   3.8s\n",
      "[CV 5/5] END ..............................C=50, gamma=0.001; total time=   3.8s\n",
      "[CV 1/5] END ..............................C=50, gamma=0.005; total time=   3.8s\n",
      "[CV 2/5] END ..............................C=50, gamma=0.005; total time=   3.8s\n",
      "[CV 3/5] END ..............................C=50, gamma=0.005; total time=   3.8s\n",
      "[CV 4/5] END ..............................C=50, gamma=0.005; total time=   3.8s\n",
      "[CV 5/5] END ..............................C=50, gamma=0.005; total time=   3.7s\n"
     ]
    },
    {
     "data": {
      "text/plain": [
       "GridSearchCV(estimator=SVC(kernel='poly'),\n",
       "             param_grid={'C': [1, 5, 10, 50],\n",
       "                         'gamma': [0.0001, 0.0005, 0.001, 0.005]},\n",
       "             verbose=3)"
      ]
     },
     "execution_count": 23,
     "metadata": {},
     "output_type": "execute_result"
    }
   ],
   "source": [
    "grid.fit(X_train_scaled, y_train.ravel())"
   ]
  },
  {
   "cell_type": "code",
   "execution_count": 24,
   "metadata": {},
   "outputs": [
    {
     "name": "stdout",
     "output_type": "stream",
     "text": [
      "{'C': 1, 'gamma': 0.0001}\n",
      "0.502228471918591\n"
     ]
    }
   ],
   "source": [
    "print(grid.best_params_)\n",
    "print(grid.best_score_)"
   ]
  },
  {
   "cell_type": "markdown",
   "metadata": {},
   "source": [
    "# Save the Model"
   ]
  },
  {
   "cell_type": "code",
   "execution_count": 28,
   "metadata": {},
   "outputs": [
    {
     "data": {
      "text/plain": [
       "SVC(kernel='poly')"
      ]
     },
     "execution_count": 28,
     "metadata": {},
     "output_type": "execute_result"
    }
   ],
   "source": [
    "model2 = SVC(kernel='poly')\n",
    "model2"
   ]
  },
  {
   "cell_type": "code",
   "execution_count": 29,
   "metadata": {},
   "outputs": [
    {
     "data": {
      "text/plain": [
       "SVC(coef0=3, decision_function_shape=None, gamma=0.0001, kernel='poly')"
      ]
     },
     "execution_count": 29,
     "metadata": {},
     "output_type": "execute_result"
    }
   ],
   "source": [
    "SVC(C=1.0, cache_size=200, class_weight=None, coef0=3,\n",
    "  decision_function_shape=None, degree=3, gamma=0.0001, kernel='poly',\n",
    "  max_iter=-1, probability=False, random_state=None, shrinking=True,\n",
    "  tol=0.001, verbose=False)"
   ]
  },
  {
   "cell_type": "code",
   "execution_count": 30,
   "metadata": {},
   "outputs": [
    {
     "data": {
      "text/plain": [
       "SVC(kernel='poly')"
      ]
     },
     "execution_count": 30,
     "metadata": {},
     "output_type": "execute_result"
    }
   ],
   "source": [
    "model2.fit(X_test_scaled,y_test.ravel())"
   ]
  },
  {
   "cell_type": "code",
   "execution_count": 31,
   "metadata": {},
   "outputs": [
    {
     "name": "stdout",
     "output_type": "stream",
     "text": [
      "0.6513988611042337\n"
     ]
    }
   ],
   "source": [
    "print(model2.score(X_test_scaled,y_test.ravel()))"
   ]
  },
  {
   "cell_type": "code",
   "execution_count": null,
   "metadata": {},
   "outputs": [],
   "source": [
    "# save your model by updating \"your_name\" with your name\n",
    "# and \"your_model\" with your model variable\n",
    "# be sure to turn this in to BCS\n",
    "# if joblib fails to import, try running the command to install in terminal/git-bash\n",
    "\n",
    "# import joblib\n",
    "# filename = 'LogisticRegression.sav'\n",
    "# joblib.dump(grid, filename)"
   ]
  }
 ],
 "metadata": {
  "kernel_info": {
   "name": "dev"
  },
  "kernelspec": {
   "display_name": "Python [conda env:PythonAdv] *",
   "language": "python",
   "name": "conda-env-PythonAdv-py"
  },
  "language_info": {
   "codemirror_mode": {
    "name": "ipython",
    "version": 3
   },
   "file_extension": ".py",
   "mimetype": "text/x-python",
   "name": "python",
   "nbconvert_exporter": "python",
   "pygments_lexer": "ipython3",
   "version": "3.6.13"
  },
  "nteract": {
   "version": "0.12.3"
  }
 },
 "nbformat": 4,
 "nbformat_minor": 2
}
